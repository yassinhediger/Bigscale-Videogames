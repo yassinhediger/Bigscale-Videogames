{
  "nbformat": 4,
  "nbformat_minor": 0,
  "metadata": {
    "colab": {
      "name": "BigScale-Project-VideogamesRanking",
      "provenance": []
    },
    "kernelspec": {
      "name": "python3",
      "display_name": "Python 3"
    }
  },
  "cells": [
    {
      "cell_type": "markdown",
      "metadata": {
        "id": "jy5VumAaH5NE",
        "colab_type": "text"
      },
      "source": [
        "# Assignment 2\n",
        "\n",
        "Hello, and welcome to our new consultant. \n",
        "For this mission we will have to work with Tableau software downloadabled following this link: https://www.tableau.com/products/trial . We are a totally new game producer company and we want to know a little bit more about the actuall market (what is selling the most, what type of games user like ...) For the needs of this assignment, we will provide you two datasets with more than 20'000 rows to simulate large scale computation with tableau. You can download them on our github repository: \n",
        "\n",
        "\n",
        "\n",
        "1.   [Raw dataset 1](https://raw.githubusercontent.com/yassinhediger/Bigscale-Videogames/master/data/rawdata/videogamesales.csv)\n",
        "2.   [Raw dataset 2](https://raw.githubusercontent.com/yassinhediger/Bigscale-Videogames/master/data/rawdata/videogamesuserranking.csv)\n",
        "\n",
        "Both are about video games, the first is showing the world sales of each video games showing some specific markets as well and the second is about the global user ranking of these same video games. This will allow us to understand better the market\n",
        "\n",
        "To reduce the time that you will spend (and our costs), we cleaned already the data using panda library in python. We just formalize the data to be able to join two dataset later on \"Tableau\". Both cleaning notebooks are findable follwing this link: [Source code](https://github.com/yassinhediger/Bigscale-Videogames/tree/master/code/Cleaning)\n",
        "\n",
        "Finally, we get the follwing two dataset that we will use for the purpose of this assignment: \n",
        "\n",
        "\n",
        "\n",
        "1.   [Cleaned dataset 1](https://raw.githubusercontent.com/yassinhediger/Bigscale-Videogames/master/data/cleandata/gameuserrankings_cleaneddata.csv)\n",
        "2.   [Cleaned dataset 2](https://raw.githubusercontent.com/yassinhediger/Bigscale-Videogames/master/data/cleandata/videogamesales_clean.csv)\n",
        "\n",
        "\n",
        "\n",
        "\n",
        "\n",
        "\n"
      ]
    },
    {
      "cell_type": "markdown",
      "metadata": {
        "id": "IkrsqeuYNRMf",
        "colab_type": "text"
      },
      "source": [
        "# Part 1\n",
        "\n",
        "For the first part of this missions (if you accept it), you will have to import our two cleaned CSV dataset into \"Tableau\" using the \"import tool\". After that, you will have to join both dataset in a consistent way to be used further on. On this picture, you will see the expected result:\n",
        "\n",
        "![Texte alternatif…](https://drive.google.com/uc?export=view&id=1sgAWFbBg49ufqd-Sn-GTw4nnH8qo_gjT)"
      ]
    },
    {
      "cell_type": "markdown",
      "metadata": {
        "id": "wd9Q5LMdV42D",
        "colab_type": "text"
      },
      "source": [
        "#Part 2\n",
        "\n",
        "For this second part we will begin with a first dashboard to quantify the total sellings within the years. For that, we will need two plot diagrams with one showing up the \"video games released by year\" and the second one \"video games revenue by year\". This will help us to understand if we are in a growing market or not. When you finish this part, you can just paste the expected result screenshots and the file of the dashbord in .twbx format using the export tool of tableau. You can paste the link from both files in this Notebook. "
      ]
    }
  ]
}