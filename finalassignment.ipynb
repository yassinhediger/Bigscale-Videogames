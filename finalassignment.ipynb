{
  "nbformat": 4,
  "nbformat_minor": 0,
  "metadata": {
    "colab": {
      "name": "BigScale-Project-VideogamesRanking",
      "provenance": [],
      "collapsed_sections": []
    },
    "kernelspec": {
      "name": "python3",
      "display_name": "Python 3"
    }
  },
  "cells": [
    {
      "cell_type": "markdown",
      "metadata": {
        "id": "JhJZdfYCFZmu",
        "colab_type": "text"
      },
      "source": [
        "# Project 1 - Big-Scale Analytics\n",
        "\n",
        "### Link to the answer video: \n",
        "\n",
        "https://youtu.be/AQhUlsv9B8A\n",
        "\n",
        "### Link to the github repository\n",
        "\n",
        "https://github.com/yassinhediger/Bigscale-Videogames\n",
        "\n",
        "\n",
        "\n"
      ]
    },
    {
      "cell_type": "markdown",
      "metadata": {
        "id": "jy5VumAaH5NE",
        "colab_type": "text"
      },
      "source": [
        "# Introduction\n",
        "\n",
        "Hello, and welcome to our new consultant. \n",
        "For this mission we will have to work with Tableau software downloadable following this link: https://www.tableau.com/products/trial . We are a totally new game producer company and we want to know a little bit more about the actual market (what is selling the most, what type of games user like ...) For the needs of this assignment, we will provide you two datasets with more than 20'000 rows to simulate large scale computation with Tableau. You can download them on our github repository: \n",
        "\n",
        "\n",
        "\n",
        "1.   [Raw dataset 1](https://raw.githubusercontent.com/yassinhediger/Bigscale-Videogames/master/data/rawdata/videogamesales.csv)\n",
        "2.   [Raw dataset 2](https://raw.githubusercontent.com/yassinhediger/Bigscale-Videogames/master/data/rawdata/videogamesuserranking.csv)\n",
        "\n",
        "Both are about video games, the first is showing the world sales of each video games and some specific markets as well and the second is about the global user ranking of these same video games. This will allow us to understand better the market.\n",
        "\n",
        "To reduce the time that you will spend (and our costs), we cleaned already the data using panda library in python. We just formalize the data to be able to join two dataset later on \"Tableau\". Both cleaning notebooks are on our github repository : [Source code](https://github.com/yassinhediger/Bigscale-Videogames/tree/master/code/Cleaning)\n",
        "\n",
        "Finally, we get the follwing two datasets that we will use for the purpose of this assignment: \n",
        "\n",
        "\n",
        "\n",
        "1.   [Cleaned dataset 1](https://raw.githubusercontent.com/yassinhediger/Bigscale-Videogames/master/data/cleandata/gameuserrankings_cleaneddata.csv)\n",
        "2.   [Cleaned dataset 2](https://raw.githubusercontent.com/yassinhediger/Bigscale-Videogames/master/data/cleandata/videogamesales_clean.csv)\n",
        "\n",
        "**But what is Tableau?**\n",
        "\n",
        "Tableau is a powerful and fastest growing data visualization tool used in the Business Intelligence Industry. It helps in simplifying raw data into the very easily understandable format.\n",
        "\n",
        "Data analysis is very fast with Tableau and the visualizations created are in the form of dashboards and worksheets. The data that is created using Tableau can be understood very easily by everyone. \n",
        "\n",
        "The best feature of Tableau are\n",
        "\n",
        "- Data Blending\n",
        "- Real time analysis\n",
        "- Collaboration of data\n",
        "\n",
        "The great thing about Tableau software is that it doesn't require any technical or any kind of programming skills to operate. The tool has garnered interest among the people from all sectors such as business, researchers, different industries, etc\n",
        "\n",
        "\n",
        "\n",
        "\n",
        "\n",
        "\n"
      ]
    },
    {
      "cell_type": "markdown",
      "metadata": {
        "id": "IkrsqeuYNRMf",
        "colab_type": "text"
      },
      "source": [
        "# Part 1\n",
        "\n",
        "For the first part of this mission (if you accept it), you will have to import our two cleaned CSV dataset into \"Tableau\" using the \"import tool\". After that, you will have to join both dataset in a consistent way to be used further on. Now go to Tableau and import data and join both data together. \n",
        "\n",
        "You should see something similar as in picture below:\n",
        "\n",
        "![Texte alternatif…](https://drive.google.com/uc?export=view&id=1sgAWFbBg49ufqd-Sn-GTw4nnH8qo_gjT)"
      ]
    },
    {
      "cell_type": "markdown",
      "metadata": {
        "id": "wd9Q5LMdV42D",
        "colab_type": "text"
      },
      "source": [
        "#Part 2\n",
        "\n",
        "For this second part we will begin with a first dashboard to quantify the total sellings within the years. For that, we will need two plot diagrams with one showing up the \"video games released by year\" and the second one \"video games revenue by year\". This will help us understand if we are in a growing market or not. When you finish this part, you can just paste the expected result screenshots and the file of the dashbord in .twbx format using the export tool of Tableau. You can paste the link from both files in this Notebook. \n",
        "\n",
        "![Texte alternatif…](https://drive.google.com/uc?export=view&id=1kRC2QGTo_eaBrUZQrVpx_vUuP8rursai)"
      ]
    },
    {
      "cell_type": "markdown",
      "metadata": {
        "id": "ORj_fwVpaFdz",
        "colab_type": "text"
      },
      "source": [
        "# Part 3\n",
        "\n",
        "Now that you've found total selling and the total revenu, we will ask you to go a little bit deeper in your analysis. In a second dashboard, we will need to understand which console is better appreciated, which type of game suit the most to the gamers and which publisher sells the most. For that, we will ask you to create 3 plot diagramms and show us these information. When you finish this part, you can just paste the expected result screenshots and the file of the dashbord in .twbx format using the export tool of tableau. You can paste the link from both files in this Notebook + we will ask you to answer these questions: \n",
        "\n",
        "\n",
        "\n",
        "*   What's the type of game that is the most selled?\n",
        "*   Who's the worst publisher in term of selling?\n",
        "*   Which console is the most used?\n",
        " \n",
        "Hint : Create a **calculated field** to make these 3 graphs\n",
        "\n",
        "\n"
      ]
    },
    {
      "cell_type": "markdown",
      "metadata": {
        "id": "v0yLgc_uBR-O",
        "colab_type": "text"
      },
      "source": [
        "**Answer filed**\n",
        "\n",
        "\n",
        "//"
      ]
    },
    {
      "cell_type": "markdown",
      "metadata": {
        "id": "x88L7T0-V1ye",
        "colab_type": "text"
      },
      "source": [
        "# Part 4\n",
        "\n",
        "For this part, we want you to create a third dashboard containing the top 10 games and publishers according to revenue. For that, you will need to create several bar plots in order to answer to the questions below.\n",
        "\n",
        "\n",
        "\n",
        "*   We would like to know which game generated the most revenue. Give us the name of the game and revenue it generated the most.\n",
        "*   We would like to know what game is rated the most by users. Give us the name and rating of the game that is the most rated by users.\n",
        "*   We would like to know the top genre by revenue. Give us the top video game genre that generated the most sales. \n",
        "*   We would also like to know the top publisher by revenue. Give us the name of the top publisher and his revenue\n",
        "*   Lastly, We would like to know the top publisher by number of releases. Give us the name of the top publisher and his total number of releases.\n",
        "\n",
        "When you finish this part, you can just paste the expected result screenshots and the file of the dashbord in .twbx format using the export tool of Tableau. You can paste the link from both files in this Notebook and the answers to the questions below. \n",
        "\n",
        "\n",
        "\n",
        "\n",
        "\n"
      ]
    },
    {
      "cell_type": "markdown",
      "metadata": {
        "id": "o6tkuvndBX5p",
        "colab_type": "text"
      },
      "source": [
        "**Answer filed**\n",
        "\n",
        "\n",
        "//"
      ]
    },
    {
      "cell_type": "markdown",
      "metadata": {
        "id": "RloQqsUtgL_U",
        "colab_type": "text"
      },
      "source": [
        "# Part 5\n",
        "\n",
        "For this part, the goal is to explore Tableau a bit further. We want to explore the data by country. For this purpose we chose to see data for Japan. We want to look at video games revenue by year in Japan, top 5 genres by revenue and finally the top publishers. For this, we would want you to produce different kind of plots and answer the following questions below : \n",
        "\n",
        "\n",
        "*   Which year has generated most revenue (in mio.) for games sales ?\n",
        "*   Which are the 5 top genres by revenue and genre has most revenue generated?\n",
        "*   Which is the top publisher in Japan who generated 202.9 mio ?\n",
        "\n",
        "When you finish this part, you can just paste the expected result screenshots and the file of the dashbord in .twbx format using the export tool of Tableau. You can paste the link from both files in this Notebook and the answers to the questions below. \n",
        "\n",
        "\n",
        "\n",
        "\n",
        "\n",
        "\n",
        "\n"
      ]
    },
    {
      "cell_type": "markdown",
      "metadata": {
        "id": "etkcqs8GBYnu",
        "colab_type": "text"
      },
      "source": [
        "**Answer filed**\n",
        "\n",
        "\n",
        "//"
      ]
    },
    {
      "cell_type": "markdown",
      "metadata": {
        "id": "zPRcOYYKN13F",
        "colab_type": "text"
      },
      "source": [
        "# Part 6\n",
        "**Chapter 6.1**\n",
        "\n",
        "For this part, the goal is similar to part 5 but this time we want to explore the data for Europe. We want to look at video games revenue by year, top 5 genres by revenue and finally the top publishers. For this, we would want you to produce different kind of plots and answer the following questions below : \n",
        "\n",
        "\n",
        "*   How much sales were done in year 2013 in Europe ?\n",
        "*   Which genre has generated the most revenue in Europe?\n",
        "*   Which is the top publisher in Europe with most sales revenue ?\n",
        "\n",
        "When you finish this part, you can just paste the expected result screenshots and the file of the dashbord in .twbx format using the export tool of Tableau. You can paste the link from both files in this Notebook and the answers to the questions below. "
      ]
    },
    {
      "cell_type": "markdown",
      "metadata": {
        "id": "DbSWRVjXBZXZ",
        "colab_type": "text"
      },
      "source": [
        "**Answer filed**\n",
        "\n",
        "\n",
        "//"
      ]
    },
    {
      "cell_type": "markdown",
      "metadata": {
        "id": "RS6e5utCZS_9",
        "colab_type": "text"
      },
      "source": [
        "**Part 6.2**\n",
        "\n",
        "For this part, same instructions as part 5 and 6 but this time for North America Continent. For this, we would want you to produce different kind of plots again and answer the following questions below : \n",
        "\n",
        "\n",
        "*   In which year the most sales were done in North America ? And How much ?\n",
        "*   In North America, which genre is preferred?\n",
        "*   Which are the top 2 publishers in North America with most sales ?\n",
        "\n",
        "When you finish this part, you can just paste the expected result screenshots and the file of the dashbord in .twbx format using the export tool of Tableau. You can paste the link from both files in this Notebook and the answers to the questions below. "
      ]
    },
    {
      "cell_type": "markdown",
      "metadata": {
        "id": "fCLHt_7NBZ9u",
        "colab_type": "text"
      },
      "source": [
        "**Answer filed**\n",
        "\n",
        "\n",
        "//"
      ]
    },
    {
      "cell_type": "markdown",
      "metadata": {
        "id": "jPcCPQ-1bmD7",
        "colab_type": "text"
      },
      "source": [
        "**Part 6.3**\n",
        "\n",
        "For this part, same instructions as part 7 but this time for the rest of the world. For this, we would want you to produce different kind of plots again and answer the following questions below : \n",
        "\n",
        "\n",
        "*   In what 2 years there were most sales in rest of the world ? And How much respectively?\n",
        "*   For the rest of the world, what genre is preferred?\n",
        "*   Which publisher is with most sales ?\n",
        "\n",
        "When you finish this part, you can just paste the expected result screenshots and the file of the dashbord in .twbx format using the export tool of Tableau. You can paste the link from both files in this Notebook and the answers to the questions below. "
      ]
    },
    {
      "cell_type": "markdown",
      "metadata": {
        "id": "uY5-eHNhBafW",
        "colab_type": "text"
      },
      "source": [
        "**Answer filed**\n",
        "\n",
        "\n",
        "//"
      ]
    },
    {
      "cell_type": "markdown",
      "metadata": {
        "id": "7kJ_IZUxc8Vx",
        "colab_type": "text"
      },
      "source": [
        "# Part 7\n",
        "\n",
        "For this part, we would like you to discover a feature called \"Story\". The goal of this part is to create a story with all the dashbaords you created in the previous parts.\n",
        "\n",
        "You should be able to have a result as shown in the image below, With all the tabs of the other dashboards on top.\n",
        "\n",
        "![story dashboard](https://drive.google.com/uc?export=view&id=164No2FFB52Ka41bUUGDFIRDcuYk0xyBd)\n",
        "\n",
        "\n",
        "\n",
        "\n",
        "\n",
        "\n",
        "\n",
        "\n"
      ]
    },
    {
      "cell_type": "markdown",
      "metadata": {
        "id": "z9Fvyy5yBbBT",
        "colab_type": "text"
      },
      "source": [
        "**Answer filed**\n",
        "\n",
        "\n",
        "//"
      ]
    },
    {
      "cell_type": "markdown",
      "metadata": {
        "id": "f7vBZBxV_xdY",
        "colab_type": "text"
      },
      "source": [
        "# Final Part\n",
        "\n",
        "We want a list of video games sales and videogames userratings to be able to compare if most selled games are also most liked one. \n",
        "Is there a correlation?"
      ]
    },
    {
      "cell_type": "markdown",
      "metadata": {
        "id": "lUymGR13Bbs1",
        "colab_type": "text"
      },
      "source": [
        "**Answer filed**\n",
        "\n",
        "\n",
        "//"
      ]
    },
    {
      "cell_type": "markdown",
      "metadata": {
        "id": "FHlrn9bfLngZ",
        "colab_type": "text"
      },
      "source": [
        "**Repartition of work:** \n",
        "\n",
        "Anika: Notebook part 5, 6, 7 and final part \n",
        "\n",
        "Yassin: Cleaning dataset and notebook part 1 and 2, Creating the video \n",
        "\n",
        "Shahzeb: Cleaning dataset and notebook part 3 and 4"
      ]
    }
  ]
}