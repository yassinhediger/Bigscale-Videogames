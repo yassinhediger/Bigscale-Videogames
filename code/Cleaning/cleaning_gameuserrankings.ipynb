{
  "nbformat": 4,
  "nbformat_minor": 0,
  "metadata": {
    "colab": {
      "name": "BigScale-TeamNestle-project1-VGuserrankings.ipynb",
      "provenance": []
    },
    "kernelspec": {
      "name": "python3",
      "display_name": "Python 3"
    }
  },
  "cells": [
    {
      "cell_type": "markdown",
      "metadata": {
        "id": "K8sJ67ZcPvNn",
        "colab_type": "text"
      },
      "source": [
        "# **Introduction**\n",
        "\n",
        "## Goal of the assignment\n",
        "\n"
      ]
    },
    {
      "cell_type": "code",
      "metadata": {
        "id": "F8vd_d3VPcjb",
        "colab_type": "code",
        "colab": {
          "base_uri": "https://localhost:8080/",
          "height": 17
        },
        "outputId": "e77769f3-0d1e-4809-a494-b4ef31d825b7"
      },
      "source": [
        "# import libraries\n",
        "import pandas as pd\n",
        "import numpy as np\n",
        "import matplotlib.pyplot as plt\n",
        "import seaborn as sns\n",
        "import scipy as stats\n",
        "import math\n",
        "import matplotlib.gridspec as gridspec\n",
        "from plotly.offline import download_plotlyjs, init_notebook_mode, plot, iplot\n",
        "init_notebook_mode(connected=True)\n",
        "%matplotlib inline\n",
        "import plotly.graph_objs as go"
      ],
      "execution_count": 1,
      "outputs": [
        {
          "output_type": "display_data",
          "data": {
            "text/html": [
              "        <script type=\"text/javascript\">\n",
              "        window.PlotlyConfig = {MathJaxConfig: 'local'};\n",
              "        if (window.MathJax) {MathJax.Hub.Config({SVG: {font: \"STIX-Web\"}});}\n",
              "        if (typeof require !== 'undefined') {\n",
              "        require.undef(\"plotly\");\n",
              "        requirejs.config({\n",
              "            paths: {\n",
              "                'plotly': ['https://cdn.plot.ly/plotly-latest.min']\n",
              "            }\n",
              "        });\n",
              "        require(['plotly'], function(Plotly) {\n",
              "            window._Plotly = Plotly;\n",
              "        });\n",
              "        }\n",
              "        </script>\n",
              "        "
            ]
          },
          "metadata": {
            "tags": []
          }
        }
      ]
    },
    {
      "cell_type": "code",
      "metadata": {
        "id": "tMPuy88XTEsa",
        "colab_type": "code",
        "colab": {}
      },
      "source": [
        "# import dataframes\n",
        "df_VGUserRankings = pd.read_csv(\"https://raw.githubusercontent.com/yassinhediger/Bigscale-Videogames/master/data/videogamesuserranking-new.csv\")"
      ],
      "execution_count": 0,
      "outputs": []
    },
    {
      "cell_type": "code",
      "metadata": {
        "id": "ssPD79hxTc0C",
        "colab_type": "code",
        "colab": {
          "base_uri": "https://localhost:8080/",
          "height": 423
        },
        "outputId": "1a4c75e2-8fc6-4ba5-d989-b4f0cb3a72d7"
      },
      "source": [
        "df_VGUserRankings.head(10000)"
      ],
      "execution_count": 23,
      "outputs": [
        {
          "output_type": "execute_result",
          "data": {
            "text/html": [
              "<div>\n",
              "<style scoped>\n",
              "    .dataframe tbody tr th:only-of-type {\n",
              "        vertical-align: middle;\n",
              "    }\n",
              "\n",
              "    .dataframe tbody tr th {\n",
              "        vertical-align: top;\n",
              "    }\n",
              "\n",
              "    .dataframe thead th {\n",
              "        text-align: right;\n",
              "    }\n",
              "</style>\n",
              "<table border=\"1\" class=\"dataframe\">\n",
              "  <thead>\n",
              "    <tr style=\"text-align: right;\">\n",
              "      <th></th>\n",
              "      <th>metascore</th>\n",
              "      <th>name</th>\n",
              "      <th>console</th>\n",
              "      <th>userscore</th>\n",
              "      <th>date</th>\n",
              "    </tr>\n",
              "  </thead>\n",
              "  <tbody>\n",
              "    <tr>\n",
              "      <th>0</th>\n",
              "      <td>97</td>\n",
              "      <td>Grand Theft Auto V</td>\n",
              "      <td>PS3</td>\n",
              "      <td>8.3</td>\n",
              "      <td>17/09/2013</td>\n",
              "    </tr>\n",
              "    <tr>\n",
              "      <th>1</th>\n",
              "      <td>97</td>\n",
              "      <td>Grand Theft Auto V</td>\n",
              "      <td>X360</td>\n",
              "      <td>8.3</td>\n",
              "      <td>17/09/2013</td>\n",
              "    </tr>\n",
              "    <tr>\n",
              "      <th>2</th>\n",
              "      <td>95</td>\n",
              "      <td>The Last of Us</td>\n",
              "      <td>PS3</td>\n",
              "      <td>9.2</td>\n",
              "      <td>14/06/2013</td>\n",
              "    </tr>\n",
              "    <tr>\n",
              "      <th>3</th>\n",
              "      <td>94</td>\n",
              "      <td>BioShock Infinite</td>\n",
              "      <td>PS3</td>\n",
              "      <td>8.5</td>\n",
              "      <td>26/03/2013</td>\n",
              "    </tr>\n",
              "    <tr>\n",
              "      <th>4</th>\n",
              "      <td>94</td>\n",
              "      <td>BioShock Infinite</td>\n",
              "      <td>PC</td>\n",
              "      <td>8.6</td>\n",
              "      <td>25/03/2013</td>\n",
              "    </tr>\n",
              "    <tr>\n",
              "      <th>...</th>\n",
              "      <td>...</td>\n",
              "      <td>...</td>\n",
              "      <td>...</td>\n",
              "      <td>...</td>\n",
              "      <td>...</td>\n",
              "    </tr>\n",
              "    <tr>\n",
              "      <th>9995</th>\n",
              "      <td>66</td>\n",
              "      <td>Midnight Pool</td>\n",
              "      <td>WII</td>\n",
              "      <td>8.0</td>\n",
              "      <td>18/08/2008</td>\n",
              "    </tr>\n",
              "    <tr>\n",
              "      <th>9996</th>\n",
              "      <td>66</td>\n",
              "      <td>Wolf of the Battlefield: Commando 3</td>\n",
              "      <td>X360</td>\n",
              "      <td>7.9</td>\n",
              "      <td>25/06/2008</td>\n",
              "    </tr>\n",
              "    <tr>\n",
              "      <th>9997</th>\n",
              "      <td>66</td>\n",
              "      <td>Shred Nebula</td>\n",
              "      <td>X360</td>\n",
              "      <td>NaN</td>\n",
              "      <td>03/09/2008</td>\n",
              "    </tr>\n",
              "    <tr>\n",
              "      <th>9998</th>\n",
              "      <td>66</td>\n",
              "      <td>Lost Cities</td>\n",
              "      <td>X360</td>\n",
              "      <td>6.8</td>\n",
              "      <td>23/04/2008</td>\n",
              "    </tr>\n",
              "    <tr>\n",
              "      <th>9999</th>\n",
              "      <td>66</td>\n",
              "      <td>Sonic Unleashed</td>\n",
              "      <td>WII</td>\n",
              "      <td>7.2</td>\n",
              "      <td>18/11/2008</td>\n",
              "    </tr>\n",
              "  </tbody>\n",
              "</table>\n",
              "<p>10000 rows × 5 columns</p>\n",
              "</div>"
            ],
            "text/plain": [
              "      metascore                                 name  ... userscore        date\n",
              "0            97                   Grand Theft Auto V  ...       8.3  17/09/2013\n",
              "1            97                   Grand Theft Auto V  ...       8.3  17/09/2013\n",
              "2            95                       The Last of Us  ...       9.2  14/06/2013\n",
              "3            94                    BioShock Infinite  ...       8.5  26/03/2013\n",
              "4            94                    BioShock Infinite  ...       8.6  25/03/2013\n",
              "...         ...                                  ...  ...       ...         ...\n",
              "9995         66                        Midnight Pool  ...       8.0  18/08/2008\n",
              "9996         66  Wolf of the Battlefield: Commando 3  ...       7.9  25/06/2008\n",
              "9997         66                         Shred Nebula  ...       NaN  03/09/2008\n",
              "9998         66                          Lost Cities  ...       6.8  23/04/2008\n",
              "9999         66                      Sonic Unleashed  ...       7.2  18/11/2008\n",
              "\n",
              "[10000 rows x 5 columns]"
            ]
          },
          "metadata": {
            "tags": []
          },
          "execution_count": 23
        }
      ]
    }
  ]
}